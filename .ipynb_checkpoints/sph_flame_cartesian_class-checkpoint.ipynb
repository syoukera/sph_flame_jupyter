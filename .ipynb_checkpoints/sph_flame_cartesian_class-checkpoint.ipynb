{
 "cells": [
  {
   "cell_type": "code",
   "execution_count": 2,
   "metadata": {},
   "outputs": [],
   "source": [
    "import math\n",
    "import matplotlib.pyplot as plt"
   ]
  },
  {
   "cell_type": "code",
   "execution_count": 3,
   "metadata": {},
   "outputs": [],
   "source": [
    "# define schalar\n",
    "D_mass      = 1.00e+0\n",
    "rho         = 1.00e+0\n",
    "u           = 1.00e+0\n",
    "\n",
    "# define grid scale\n",
    "total_length = 1.00e+0\n",
    "num_grid     = 101\n",
    "dx           = total_length/(num_grid-1)\n",
    "\n",
    "# define time scale\n",
    "start_time      = 0.00e+0\n",
    "end_time        = 1.00e+0\n",
    "dt              = 1.00e-3\n",
    "\n",
    "# define boundary value\n",
    "phi_0 = 1.00e+0\n",
    "phi_L = 0.00e+0"
   ]
  },
  {
   "cell_type": "code",
   "execution_count": 57,
   "metadata": {},
   "outputs": [],
   "source": [
    "class volume:\n",
    "    D_mass      = 1.00e+0\n",
    "    rho         = 1.00e+0\n",
    "    u           = 1.00e+0\n",
    "    \n",
    "    def __init__(self, index, dx, num_grid):\n",
    "        self.index    = index\n",
    "        self.dx       = dx\n",
    "        self.num_grid = num_grid\n",
    "    \n",
    "class control_volume(volume):\n",
    "    \n",
    "    self.a_i = 1.00e+0\n",
    "    self.b_i = 1.00e+0\n",
    "    selk.c_i = 0.00e+0\n",
    "    self.d_i = 0.00e+0\n",
    "    \n",
    "    def __init__(self, index, dx, num_grid):\n",
    "        super().__init__(index, dx, num_grid)\n",
    "    \n",
    "    def calc_coeff(self):\n",
    "        if i == 0:\n",
    "            self.calc_coeff_center_bound()\n",
    "        elif i == num_grid - 1:\n",
    "            self.calc_coeff_outer_bound()\n",
    "        else:\n",
    "            self.calc_coeff_internal_grid()\n",
    "    \n",
    "    def calc_coeff_center_bound(self):\n",
    "        pass\n",
    "    \n",
    "    def calc_coeff_outer_bound(self):\n",
    "        pass\n",
    "    \n",
    "    def calc_coeff_internal_grid(self):\n",
    "        pass"
   ]
  },
  {
   "cell_type": "code",
   "execution_count": 58,
   "metadata": {},
   "outputs": [],
   "source": [
    "x = control_volume(5, 1e-4, 100)"
   ]
  },
  {
   "cell_type": "code",
   "execution_count": 59,
   "metadata": {
    "scrolled": true
   },
   "outputs": [
    {
     "data": {
      "text/plain": [
       "1.0"
      ]
     },
     "execution_count": 59,
     "metadata": {},
     "output_type": "execute_result"
    }
   ],
   "source": [
    "x.u"
   ]
  },
  {
   "cell_type": "code",
   "execution_count": 38,
   "metadata": {},
   "outputs": [],
   "source": [
    "y = volume(5, 1e-4, 100)"
   ]
  },
  {
   "cell_type": "code",
   "execution_count": 40,
   "metadata": {},
   "outputs": [
    {
     "ename": "AttributeError",
     "evalue": "'volume' object has no attribute 'calc_coeff'",
     "output_type": "error",
     "traceback": [
      "\u001b[0;31m---------------------------------------------------------------------------\u001b[0m",
      "\u001b[0;31mAttributeError\u001b[0m                            Traceback (most recent call last)",
      "\u001b[0;32m<ipython-input-40-e6bbbd4e64ae>\u001b[0m in \u001b[0;36m<module>\u001b[0;34m\u001b[0m\n\u001b[0;32m----> 1\u001b[0;31m \u001b[0my\u001b[0m\u001b[0;34m.\u001b[0m\u001b[0mcalc_coeff\u001b[0m\u001b[0;34m(\u001b[0m\u001b[0;34m)\u001b[0m\u001b[0;34m\u001b[0m\u001b[0;34m\u001b[0m\u001b[0m\n\u001b[0m",
      "\u001b[0;31mAttributeError\u001b[0m: 'volume' object has no attribute 'calc_coeff'"
     ]
    }
   ],
   "source": [
    "y.calc_coeff()"
   ]
  },
  {
   "cell_type": "code",
   "execution_count": null,
   "metadata": {},
   "outputs": [],
   "source": [
    "# Calclate coefficient of discretized equation\n",
    "def calc_coef_implicit(i):\n",
    "    \n",
    "    # center boundary\n",
    "    if i == 0:\n",
    "        a_i = 1.00e+0\n",
    "        b_i = 1.00e+0\n",
    "        c_i = 0.00e+0\n",
    "        d_i = 0.00e+0\n",
    "        \n",
    "    # outer boundary\n",
    "    elif i == num_grid-1:\n",
    "        a_i = 1.00e+0\n",
    "        b_i = 0.00e+0\n",
    "        c_i = 1.00e+0\n",
    "        d_i = 0.00e+0\n",
    "    \n",
    "    # internal grids\n",
    "    else:\n",
    "        dx_e = x[i+1] - x[i]\n",
    "        dx_w = x[i] - x[i-1]\n",
    "    \n",
    "        F = rho*u\n",
    "        D_e = D_mass/dx_e\n",
    "        D_w = D_mass/dx_w\n",
    "    \n",
    "        a_E   = D_e + max(-F, 0)\n",
    "        a_W   = D_w + max(F, 0)\n",
    "        a_P_0 = rho*dx/dt\n",
    "        a_P   = a_E + a_W + a_P_0\n",
    "        b     = a_P_0*phi_sim[i]\n",
    "    \n",
    "        a_i = a_P\n",
    "        b_i = a_E\n",
    "        c_i = a_W\n",
    "        d_i = b\n",
    "    \n",
    "    return a_i, b_i, c_i, d_i"
   ]
  }
 ],
 "metadata": {
  "kernelspec": {
   "display_name": "Python 3",
   "language": "python",
   "name": "python3"
  },
  "language_info": {
   "codemirror_mode": {
    "name": "ipython",
    "version": 3
   },
   "file_extension": ".py",
   "mimetype": "text/x-python",
   "name": "python",
   "nbconvert_exporter": "python",
   "pygments_lexer": "ipython3",
   "version": "3.6.8"
  }
 },
 "nbformat": 4,
 "nbformat_minor": 2
}
